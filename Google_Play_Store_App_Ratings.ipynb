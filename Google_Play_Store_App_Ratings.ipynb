{
  "nbformat": 4,
  "nbformat_minor": 0,
  "metadata": {
    "colab": {
      "name": "Google Play Store App Ratings.ipynb",
      "provenance": [],
      "collapsed_sections": [],
      "authorship_tag": "ABX9TyP07mGPjIjOZMZ9mNHY6Qz9"
    },
    "kernelspec": {
      "display_name": "Python 3",
      "name": "python3"
    }
  },
  "cells": [
    {
      "cell_type": "markdown",
      "metadata": {
        "id": "Ab1fvnP212kr"
      },
      "source": [
        "Google Play Store has approximately 1.1 million applications and below is the link where I found the project. This dataset collection is as recent as early December 2020. The purpose for this is to see what are the different cases that makes the app to have high or low rating. Is it due to price? In app purchases? or Reviews? This analysis overall can help the stakeholders make decisions on what direction that they want to go with the apps in the google play store. Also, the overall goal of this analysis to generate revenue and maximize profit for the play store by providing ads with the apps. This can help create buzz on the apps in the play store and make the google play store the place to go to downaload applications.  \r\n",
        "\r\n",
        "Before we try to form our hypothesis, we need to import the libraries that are necessary for this project. Also, since our dataset is a CSV file, we need to read the file, create a dataframe, and look at the first five values to check if it all works.\r\n",
        "\r\n",
        "Link : [www.kaggle.com/gauthamp10/google-playstore-apps](https://www.kaggle.com/gauthamp10/google-playstore-apps)\r\n"
      ]
    },
    {
      "cell_type": "code",
      "metadata": {
        "colab": {
          "base_uri": "https://localhost:8080/"
        },
        "id": "buSoBuU714Ft",
        "outputId": "473b301a-614a-4823-9025-065c658ecfb7"
      },
      "source": [
        "# To keep the page oraganized, import all the libraires \r\n",
        "from google.colab import drive\r\n",
        "drive.mount('/content/gdrive')\r\n",
        "import pandas as pd\r\n",
        "import matplotlib.pyplot as plt\r\n",
        "from scipy import stats\r\n",
        "import math\r\n",
        "import seaborn as sns\r\n",
        "sns.set()\r\n",
        "# Suppress Warnings (otherwise the code won't exceute properly) \r\n",
        "import warnings\r\n",
        "warnings.filterwarnings(\"ignore\")\r\n",
        "\r\n",
        "# Create the dataframe for the google play store label as gps.df\r\n",
        "gps_df = pd.read_csv('/content/gdrive/My Drive/MOD 36/Google-Playstore.csv')\r\n",
        "\r\n",
        "\r\n"
      ],
      "execution_count": null,
      "outputs": [
        {
          "output_type": "stream",
          "text": [
            "Drive already mounted at /content/gdrive; to attempt to forcibly remount, call drive.mount(\"/content/gdrive\", force_remount=True).\n"
          ],
          "name": "stdout"
        }
      ]
    },
    {
      "cell_type": "code",
      "metadata": {
        "colab": {
          "base_uri": "https://localhost:8080/",
          "height": 445
        },
        "id": "v-_S6Ll_GQb5",
        "outputId": "f6e439eb-b5d4-416e-e860-ba74457daf5e"
      },
      "source": [
        "# check to see the first five values\r\n",
        "gps_df.head()"
      ],
      "execution_count": null,
      "outputs": [
        {
          "output_type": "execute_result",
          "data": {
            "text/html": [
              "<div>\n",
              "<style scoped>\n",
              "    .dataframe tbody tr th:only-of-type {\n",
              "        vertical-align: middle;\n",
              "    }\n",
              "\n",
              "    .dataframe tbody tr th {\n",
              "        vertical-align: top;\n",
              "    }\n",
              "\n",
              "    .dataframe thead th {\n",
              "        text-align: right;\n",
              "    }\n",
              "</style>\n",
              "<table border=\"1\" class=\"dataframe\">\n",
              "  <thead>\n",
              "    <tr style=\"text-align: right;\">\n",
              "      <th></th>\n",
              "      <th>App Name</th>\n",
              "      <th>App Id</th>\n",
              "      <th>Category</th>\n",
              "      <th>Rating</th>\n",
              "      <th>Rating Count</th>\n",
              "      <th>Installs</th>\n",
              "      <th>Minimum Installs</th>\n",
              "      <th>Maximum Installs</th>\n",
              "      <th>Free</th>\n",
              "      <th>Price</th>\n",
              "      <th>Currency</th>\n",
              "      <th>Size</th>\n",
              "      <th>Minimum Android</th>\n",
              "      <th>Developer Id</th>\n",
              "      <th>Developer Website</th>\n",
              "      <th>Developer Email</th>\n",
              "      <th>Released</th>\n",
              "      <th>Last Updated</th>\n",
              "      <th>Content Rating</th>\n",
              "      <th>Privacy Policy</th>\n",
              "      <th>Ad Supported</th>\n",
              "      <th>In App Purchases</th>\n",
              "      <th>Editors Choice</th>\n",
              "    </tr>\n",
              "  </thead>\n",
              "  <tbody>\n",
              "    <tr>\n",
              "      <th>0</th>\n",
              "      <td>HTTrack Website Copier</td>\n",
              "      <td>com.httrack.android</td>\n",
              "      <td>Communication</td>\n",
              "      <td>3.6</td>\n",
              "      <td>2848.0</td>\n",
              "      <td>100,000+</td>\n",
              "      <td>100000.0</td>\n",
              "      <td>351560</td>\n",
              "      <td>True</td>\n",
              "      <td>0.0</td>\n",
              "      <td>USD</td>\n",
              "      <td>2.7M</td>\n",
              "      <td>2.3 and up</td>\n",
              "      <td>Xavier Roche</td>\n",
              "      <td>http://www.httrack.com/</td>\n",
              "      <td>roche+android@httrack.com</td>\n",
              "      <td>Aug 12, 2013</td>\n",
              "      <td>May 20, 2017</td>\n",
              "      <td>Everyone</td>\n",
              "      <td>http://android.httrack.com/privacy-policy.html</td>\n",
              "      <td>False</td>\n",
              "      <td>False</td>\n",
              "      <td>False</td>\n",
              "    </tr>\n",
              "    <tr>\n",
              "      <th>1</th>\n",
              "      <td>World War 2: Offline Strategy</td>\n",
              "      <td>com.skizze.wwii</td>\n",
              "      <td>Strategy</td>\n",
              "      <td>4.3</td>\n",
              "      <td>17297.0</td>\n",
              "      <td>1,000,000+</td>\n",
              "      <td>1000000.0</td>\n",
              "      <td>2161778</td>\n",
              "      <td>True</td>\n",
              "      <td>0.0</td>\n",
              "      <td>USD</td>\n",
              "      <td>86M</td>\n",
              "      <td>5.1 and up</td>\n",
              "      <td>Skizze Games</td>\n",
              "      <td>http://stereo7.com/</td>\n",
              "      <td>Skizze.Games@gmail.com</td>\n",
              "      <td>Jul 19, 2018</td>\n",
              "      <td>Nov 26, 2020</td>\n",
              "      <td>Everyone 10+</td>\n",
              "      <td>https://www.iubenda.com/privacy-policy/8032781</td>\n",
              "      <td>True</td>\n",
              "      <td>True</td>\n",
              "      <td>False</td>\n",
              "    </tr>\n",
              "    <tr>\n",
              "      <th>2</th>\n",
              "      <td>WPSApp</td>\n",
              "      <td>com.themausoft.wpsapp</td>\n",
              "      <td>Tools</td>\n",
              "      <td>4.2</td>\n",
              "      <td>488639.0</td>\n",
              "      <td>50,000,000+</td>\n",
              "      <td>50000000.0</td>\n",
              "      <td>79304739</td>\n",
              "      <td>True</td>\n",
              "      <td>0.0</td>\n",
              "      <td>USD</td>\n",
              "      <td>5.8M</td>\n",
              "      <td>4.1 and up</td>\n",
              "      <td>TheMauSoft</td>\n",
              "      <td>http://www.themausoft.com</td>\n",
              "      <td>wpsapp.app@gmail.com</td>\n",
              "      <td>Mar 7, 2016</td>\n",
              "      <td>Oct 21, 2020</td>\n",
              "      <td>Everyone</td>\n",
              "      <td>https://sites.google.com/view/wpsapppolicy/main</td>\n",
              "      <td>True</td>\n",
              "      <td>False</td>\n",
              "      <td>False</td>\n",
              "    </tr>\n",
              "    <tr>\n",
              "      <th>3</th>\n",
              "      <td>OfficeSuite - Office, PDF, Word, Excel, PowerP...</td>\n",
              "      <td>com.mobisystems.office</td>\n",
              "      <td>Business</td>\n",
              "      <td>4.2</td>\n",
              "      <td>1224420.0</td>\n",
              "      <td>100,000,000+</td>\n",
              "      <td>100000000.0</td>\n",
              "      <td>163660067</td>\n",
              "      <td>True</td>\n",
              "      <td>0.0</td>\n",
              "      <td>USD</td>\n",
              "      <td>59M</td>\n",
              "      <td>4.4 and up</td>\n",
              "      <td>MobiSystems</td>\n",
              "      <td>http://www.mobisystems.com</td>\n",
              "      <td>support-officesuite-android@mobisystems.com</td>\n",
              "      <td>Dec 22, 2011</td>\n",
              "      <td>Nov 23, 2020</td>\n",
              "      <td>Everyone</td>\n",
              "      <td>http://www.mobisystems.com/mobile/privacy-poli...</td>\n",
              "      <td>True</td>\n",
              "      <td>True</td>\n",
              "      <td>False</td>\n",
              "    </tr>\n",
              "    <tr>\n",
              "      <th>4</th>\n",
              "      <td>Loud Player Free</td>\n",
              "      <td>com.arthelion.loudplayer</td>\n",
              "      <td>Music &amp; Audio</td>\n",
              "      <td>4.2</td>\n",
              "      <td>665.0</td>\n",
              "      <td>50,000+</td>\n",
              "      <td>50000.0</td>\n",
              "      <td>73463</td>\n",
              "      <td>True</td>\n",
              "      <td>0.0</td>\n",
              "      <td>USD</td>\n",
              "      <td>29M</td>\n",
              "      <td>5.0 and up</td>\n",
              "      <td>Arthelion92</td>\n",
              "      <td>http://www.arthelion.com</td>\n",
              "      <td>arthelion92@gmail.com</td>\n",
              "      <td>Sep 24, 2016</td>\n",
              "      <td>Nov 22, 2020</td>\n",
              "      <td>Everyone</td>\n",
              "      <td>http://www.arthelion.com/index.php/fr/android-...</td>\n",
              "      <td>False</td>\n",
              "      <td>False</td>\n",
              "      <td>False</td>\n",
              "    </tr>\n",
              "  </tbody>\n",
              "</table>\n",
              "</div>"
            ],
            "text/plain": [
              "                                            App Name  ... Editors Choice\n",
              "0                             HTTrack Website Copier  ...          False\n",
              "1                      World War 2: Offline Strategy  ...          False\n",
              "2                                             WPSApp  ...          False\n",
              "3  OfficeSuite - Office, PDF, Word, Excel, PowerP...  ...          False\n",
              "4                                   Loud Player Free  ...          False\n",
              "\n",
              "[5 rows x 23 columns]"
            ]
          },
          "metadata": {
            "tags": []
          },
          "execution_count": 5
        }
      ]
    },
    {
      "cell_type": "markdown",
      "metadata": {
        "id": "D7aqe_uvGRl0"
      },
      "source": [
        "Look at the information from this dataset. Begin to doing some data exploration."
      ]
    },
    {
      "cell_type": "code",
      "metadata": {
        "colab": {
          "base_uri": "https://localhost:8080/"
        },
        "id": "98kjFkuksb2u",
        "outputId": "2b7b8fdd-2499-436d-94d5-7ed5f6fcb34b"
      },
      "source": [
        "# info about the dataset\r\n",
        "gps_df.info()"
      ],
      "execution_count": null,
      "outputs": [
        {
          "output_type": "stream",
          "text": [
            "<class 'pandas.core.frame.DataFrame'>\n",
            "RangeIndex: 1118136 entries, 0 to 1118135\n",
            "Data columns (total 23 columns):\n",
            " #   Column             Non-Null Count    Dtype  \n",
            "---  ------             --------------    -----  \n",
            " 0   App Name           1118135 non-null  object \n",
            " 1   App Id             1118136 non-null  object \n",
            " 2   Category           1118133 non-null  object \n",
            " 3   Rating             1111286 non-null  float64\n",
            " 4   Rating Count       1111286 non-null  float64\n",
            " 5   Installs           1117975 non-null  object \n",
            " 6   Minimum Installs   1117975 non-null  float64\n",
            " 7   Maximum Installs   1118136 non-null  int64  \n",
            " 8   Free               1118136 non-null  bool   \n",
            " 9   Price              1118136 non-null  float64\n",
            " 10  Currency           1117975 non-null  object \n",
            " 11  Size               1118136 non-null  object \n",
            " 12  Minimum Android    1116123 non-null  object \n",
            " 13  Developer Id       1118134 non-null  object \n",
            " 14  Developer Website  703770 non-null   object \n",
            " 15  Developer Email    1118114 non-null  object \n",
            " 16  Released           1110406 non-null  object \n",
            " 17  Last Updated       1118136 non-null  object \n",
            " 18  Content Rating     1118136 non-null  object \n",
            " 19  Privacy Policy     964612 non-null   object \n",
            " 20  Ad Supported       1118136 non-null  bool   \n",
            " 21  In App Purchases   1118136 non-null  bool   \n",
            " 22  Editors Choice     1118136 non-null  bool   \n",
            "dtypes: bool(4), float64(4), int64(1), object(14)\n",
            "memory usage: 166.3+ MB\n"
          ],
          "name": "stdout"
        }
      ]
    },
    {
      "cell_type": "markdown",
      "metadata": {
        "id": "TwhMuhiOvNcH"
      },
      "source": [
        "Looking the information from the dataset, there are 23 columns \r\n",
        "\r\n",
        "Let's observe the null values."
      ]
    },
    {
      "cell_type": "code",
      "metadata": {
        "colab": {
          "base_uri": "https://localhost:8080/"
        },
        "id": "fa0KA6NFjFor",
        "outputId": "0a1c9b5c-32b6-43b0-a3eb-2d4c429b3d77"
      },
      "source": [
        "# Observe null values\r\n",
        "gps_df.isnull().values\r\n",
        "gps_df.info()"
      ],
      "execution_count": null,
      "outputs": [
        {
          "output_type": "stream",
          "text": [
            "<class 'pandas.core.frame.DataFrame'>\n",
            "RangeIndex: 1118136 entries, 0 to 1118135\n",
            "Data columns (total 23 columns):\n",
            " #   Column             Non-Null Count    Dtype  \n",
            "---  ------             --------------    -----  \n",
            " 0   App Name           1118135 non-null  object \n",
            " 1   App Id             1118136 non-null  object \n",
            " 2   Category           1118133 non-null  object \n",
            " 3   Rating             1111286 non-null  float64\n",
            " 4   Rating Count       1111286 non-null  float64\n",
            " 5   Installs           1117975 non-null  object \n",
            " 6   Minimum Installs   1117975 non-null  float64\n",
            " 7   Maximum Installs   1118136 non-null  int64  \n",
            " 8   Free               1118136 non-null  bool   \n",
            " 9   Price              1118136 non-null  float64\n",
            " 10  Currency           1117975 non-null  object \n",
            " 11  Size               1118136 non-null  object \n",
            " 12  Minimum Android    1116123 non-null  object \n",
            " 13  Developer Id       1118134 non-null  object \n",
            " 14  Developer Website  703770 non-null   object \n",
            " 15  Developer Email    1118114 non-null  object \n",
            " 16  Released           1110406 non-null  object \n",
            " 17  Last Updated       1118136 non-null  object \n",
            " 18  Content Rating     1118136 non-null  object \n",
            " 19  Privacy Policy     964612 non-null   object \n",
            " 20  Ad Supported       1118136 non-null  bool   \n",
            " 21  In App Purchases   1118136 non-null  bool   \n",
            " 22  Editors Choice     1118136 non-null  bool   \n",
            "dtypes: bool(4), float64(4), int64(1), object(14)\n",
            "memory usage: 166.3+ MB\n"
          ],
          "name": "stdout"
        }
      ]
    },
    {
      "cell_type": "markdown",
      "metadata": {
        "id": "c_NJkNhlnPbZ"
      },
      "source": [
        "Besides two columns, all the columns are in the similar area of dataset values. Developer Website and Privacy Policy are the columns that have much smaller dataset values than the other columns. The reason might be is that there are  lots of missing values in those columns. \r\n",
        "\r\n",
        "To fix that, we can drop those two columns since it is not necessary for our hypotheses and use the variable new_gps_df for our new dataset."
      ]
    },
    {
      "cell_type": "code",
      "metadata": {
        "colab": {
          "base_uri": "https://localhost:8080/"
        },
        "id": "VivjK7m3PmAe",
        "outputId": "b95e0918-43af-491f-ff30-b51b973e4a61"
      },
      "source": [
        "new_gps_df = gps_df.drop(['Developer Website', 'Privacy Policy'], axis = 1)\r\n",
        "new_gps_df.info()"
      ],
      "execution_count": null,
      "outputs": [
        {
          "output_type": "stream",
          "text": [
            "<class 'pandas.core.frame.DataFrame'>\n",
            "RangeIndex: 1118136 entries, 0 to 1118135\n",
            "Data columns (total 21 columns):\n",
            " #   Column            Non-Null Count    Dtype  \n",
            "---  ------            --------------    -----  \n",
            " 0   App Name          1118135 non-null  object \n",
            " 1   App Id            1118136 non-null  object \n",
            " 2   Category          1118133 non-null  object \n",
            " 3   Rating            1111286 non-null  float64\n",
            " 4   Rating Count      1111286 non-null  float64\n",
            " 5   Installs          1117975 non-null  object \n",
            " 6   Minimum Installs  1117975 non-null  float64\n",
            " 7   Maximum Installs  1118136 non-null  int64  \n",
            " 8   Free              1118136 non-null  bool   \n",
            " 9   Price             1118136 non-null  float64\n",
            " 10  Currency          1117975 non-null  object \n",
            " 11  Size              1118136 non-null  object \n",
            " 12  Minimum Android   1116123 non-null  object \n",
            " 13  Developer Id      1118134 non-null  object \n",
            " 14  Developer Email   1118114 non-null  object \n",
            " 15  Released          1110406 non-null  object \n",
            " 16  Last Updated      1118136 non-null  object \n",
            " 17  Content Rating    1118136 non-null  object \n",
            " 18  Ad Supported      1118136 non-null  bool   \n",
            " 19  In App Purchases  1118136 non-null  bool   \n",
            " 20  Editors Choice    1118136 non-null  bool   \n",
            "dtypes: bool(4), float64(4), int64(1), object(12)\n",
            "memory usage: 149.3+ MB\n"
          ],
          "name": "stdout"
        }
      ]
    },
    {
      "cell_type": "markdown",
      "metadata": {
        "id": "QlY4TDSr6n22"
      },
      "source": [
        "Now, with Developer Website and Privacy Policy being drop, there are not equal amount of dataset values in each column. There are likely missing values in these columns as well therefore we need to drop the null values to clean the dataset. \r\n",
        "\r\n",
        "clean_gps_df is the variable to use when to drop the null values in the dataset."
      ]
    },
    {
      "cell_type": "code",
      "metadata": {
        "colab": {
          "base_uri": "https://localhost:8080/"
        },
        "id": "FN3v1e9oWmGm",
        "outputId": "bfa3ca71-a837-4b68-9d0f-141accabf492"
      },
      "source": [
        "clean_gps_df = new_gps_df.dropna()\r\n",
        "clean_gps_df.info()"
      ],
      "execution_count": null,
      "outputs": [
        {
          "output_type": "stream",
          "text": [
            "<class 'pandas.core.frame.DataFrame'>\n",
            "Int64Index: 1108302 entries, 0 to 1118135\n",
            "Data columns (total 21 columns):\n",
            " #   Column            Non-Null Count    Dtype  \n",
            "---  ------            --------------    -----  \n",
            " 0   App Name          1108302 non-null  object \n",
            " 1   App Id            1108302 non-null  object \n",
            " 2   Category          1108302 non-null  object \n",
            " 3   Rating            1108302 non-null  float64\n",
            " 4   Rating Count      1108302 non-null  float64\n",
            " 5   Installs          1108302 non-null  object \n",
            " 6   Minimum Installs  1108302 non-null  float64\n",
            " 7   Maximum Installs  1108302 non-null  int64  \n",
            " 8   Free              1108302 non-null  bool   \n",
            " 9   Price             1108302 non-null  float64\n",
            " 10  Currency          1108302 non-null  object \n",
            " 11  Size              1108302 non-null  object \n",
            " 12  Minimum Android   1108302 non-null  object \n",
            " 13  Developer Id      1108302 non-null  object \n",
            " 14  Developer Email   1108302 non-null  object \n",
            " 15  Released          1108302 non-null  object \n",
            " 16  Last Updated      1108302 non-null  object \n",
            " 17  Content Rating    1108302 non-null  object \n",
            " 18  Ad Supported      1108302 non-null  bool   \n",
            " 19  In App Purchases  1108302 non-null  bool   \n",
            " 20  Editors Choice    1108302 non-null  bool   \n",
            "dtypes: bool(4), float64(4), int64(1), object(12)\n",
            "memory usage: 156.4+ MB\n"
          ],
          "name": "stdout"
        }
      ]
    },
    {
      "cell_type": "markdown",
      "metadata": {
        "id": "sDMPl-UEAiEq"
      },
      "source": [
        "Now the dataset is clean and the values are matching. \r\n",
        "\r\n",
        "Just to be curious, let's see how many unqiue values are there per column. "
      ]
    },
    {
      "cell_type": "code",
      "metadata": {
        "colab": {
          "base_uri": "https://localhost:8080/"
        },
        "id": "ncw1sX5tnPBH",
        "outputId": "1a949dd7-42ac-4cae-aac6-c7af4c4bbbf6"
      },
      "source": [
        "# Number of unique values per column in this dataset\r\n",
        "clean_gps_df.nunique()"
      ],
      "execution_count": null,
      "outputs": [
        {
          "output_type": "execute_result",
          "data": {
            "text/plain": [
              "App Name            1037544\n",
              "App Id              1108302\n",
              "Category                 48\n",
              "Rating                   42\n",
              "Rating Count          34744\n",
              "Installs                 22\n",
              "Minimum Installs         22\n",
              "Maximum Installs     206335\n",
              "Free                      2\n",
              "Price                   702\n",
              "Currency                 54\n",
              "Size                   1481\n",
              "Minimum Android         137\n",
              "Developer Id         164538\n",
              "Developer Email      259091\n",
              "Released               3963\n",
              "Last Updated           3679\n",
              "Content Rating            6\n",
              "Ad Supported              2\n",
              "In App Purchases          2\n",
              "Editors Choice            2\n",
              "dtype: int64"
            ]
          },
          "metadata": {
            "tags": []
          },
          "execution_count": 10
        }
      ]
    },
    {
      "cell_type": "markdown",
      "metadata": {
        "id": "AnRDgUAb6jB1"
      },
      "source": [
        "Before we start running our hypothesis, let us see the stats for the app rating column since it will be our dependent variable."
      ]
    },
    {
      "cell_type": "code",
      "metadata": {
        "colab": {
          "base_uri": "https://localhost:8080/"
        },
        "id": "QlWM-k_BBxpx",
        "outputId": "9d9ca806-3e1c-4662-c853-fc26e1488ca9"
      },
      "source": [
        "clean_gps_df['Rating'].describe()"
      ],
      "execution_count": null,
      "outputs": [
        {
          "output_type": "execute_result",
          "data": {
            "text/plain": [
              "count    1.108302e+06\n",
              "mean     2.490893e+00\n",
              "std      2.053989e+00\n",
              "min      0.000000e+00\n",
              "25%      0.000000e+00\n",
              "50%      3.600000e+00\n",
              "75%      4.300000e+00\n",
              "max      5.000000e+00\n",
              "Name: Rating, dtype: float64"
            ]
          },
          "metadata": {
            "tags": []
          },
          "execution_count": 11
        }
      ]
    },
    {
      "cell_type": "markdown",
      "metadata": {
        "id": "C8uIVRuIPW_G"
      },
      "source": [
        "The average rating for the apps are about 2.5 which makes sense because overall it is a 5 rating scale. "
      ]
    },
    {
      "cell_type": "markdown",
      "metadata": {
        "id": "OEP9oWRaCcAR"
      },
      "source": [
        "# **Case 1: Price**\r\n",
        "\r\n",
        "Now, we can form our hypothesis by providing the formula and what it represents. Here are our hypothesis for the first case:\r\n",
        "\r\n",
        "### H_o = mu_1 - mu_2 = 0 (equal zero)\r\n",
        "\r\n",
        "### H_a = mu_1 - mu_2 != 0 (not equal zero)\r\n",
        "\r\n",
        "Our **null hypothesis** [H_o] represents that there is no significant difference with the app ratings based on the two different price ranges. \r\n",
        "\r\n",
        "Our **alternative hypothesis** [H_a] represents that there is significant difference with the app ratings based on the two different price ranges.\r\n",
        "\r\n",
        "Also, we are dealing with a 95% confidence interval therefore:\r\n",
        "\r\n",
        "### alpha = .05\r\n",
        "\r\n",
        "**Note:** the 95% confidence interval including the alpha goes for the other two cases as well."
      ]
    },
    {
      "cell_type": "markdown",
      "metadata": {
        "id": "7LJRha97Uf_S"
      },
      "source": [
        "Once we have formula in place, we try to test the first case which is if the app ratings has an effect if the price of the app is free or not. \r\n",
        "\r\n",
        "First, create a variable called F and that will represent the applications that are free to downaload at the playstore."
      ]
    },
    {
      "cell_type": "code",
      "metadata": {
        "colab": {
          "base_uri": "https://localhost:8080/"
        },
        "id": "OoHfPUSeAcO4",
        "outputId": "4f815413-2f6e-4c05-e84d-f5eb086cac63"
      },
      "source": [
        "F = clean_gps_df.iloc[(clean_gps_df['Price'] == 0).values]\r\n",
        "F.info()"
      ],
      "execution_count": null,
      "outputs": [
        {
          "output_type": "stream",
          "text": [
            "<class 'pandas.core.frame.DataFrame'>\n",
            "Int64Index: 1062234 entries, 0 to 1118135\n",
            "Data columns (total 21 columns):\n",
            " #   Column            Non-Null Count    Dtype  \n",
            "---  ------            --------------    -----  \n",
            " 0   App Name          1062234 non-null  object \n",
            " 1   App Id            1062234 non-null  object \n",
            " 2   Category          1062234 non-null  object \n",
            " 3   Rating            1062234 non-null  float64\n",
            " 4   Rating Count      1062234 non-null  float64\n",
            " 5   Installs          1062234 non-null  object \n",
            " 6   Minimum Installs  1062234 non-null  float64\n",
            " 7   Maximum Installs  1062234 non-null  int64  \n",
            " 8   Free              1062234 non-null  bool   \n",
            " 9   Price             1062234 non-null  float64\n",
            " 10  Currency          1062234 non-null  object \n",
            " 11  Size              1062234 non-null  object \n",
            " 12  Minimum Android   1062234 non-null  object \n",
            " 13  Developer Id      1062234 non-null  object \n",
            " 14  Developer Email   1062234 non-null  object \n",
            " 15  Released          1062234 non-null  object \n",
            " 16  Last Updated      1062234 non-null  object \n",
            " 17  Content Rating    1062234 non-null  object \n",
            " 18  Ad Supported      1062234 non-null  bool   \n",
            " 19  In App Purchases  1062234 non-null  bool   \n",
            " 20  Editors Choice    1062234 non-null  bool   \n",
            "dtypes: bool(4), float64(4), int64(1), object(12)\n",
            "memory usage: 149.9+ MB\n"
          ],
          "name": "stdout"
        }
      ]
    },
    {
      "cell_type": "markdown",
      "metadata": {
        "id": "2bWrjGnqRpQA"
      },
      "source": [
        "From doing that calculation, there is a overwhleming majority of these apps that are free to download.\r\n",
        "\r\n",
        "Next, create another variable labeled NF. That will represent not free apps and you will have to pay the price of the app before you can download it."
      ]
    },
    {
      "cell_type": "code",
      "metadata": {
        "colab": {
          "base_uri": "https://localhost:8080/"
        },
        "id": "SRNWhe2wT00p",
        "outputId": "7eac1146-8936-4eea-c0dd-fbf461802b08"
      },
      "source": [
        "NF = clean_gps_df.iloc[(clean_gps_df['Price'] != 0).values]\r\n",
        "NF.info()"
      ],
      "execution_count": null,
      "outputs": [
        {
          "output_type": "stream",
          "text": [
            "<class 'pandas.core.frame.DataFrame'>\n",
            "Int64Index: 46068 entries, 20 to 1117809\n",
            "Data columns (total 21 columns):\n",
            " #   Column            Non-Null Count  Dtype  \n",
            "---  ------            --------------  -----  \n",
            " 0   App Name          46068 non-null  object \n",
            " 1   App Id            46068 non-null  object \n",
            " 2   Category          46068 non-null  object \n",
            " 3   Rating            46068 non-null  float64\n",
            " 4   Rating Count      46068 non-null  float64\n",
            " 5   Installs          46068 non-null  object \n",
            " 6   Minimum Installs  46068 non-null  float64\n",
            " 7   Maximum Installs  46068 non-null  int64  \n",
            " 8   Free              46068 non-null  bool   \n",
            " 9   Price             46068 non-null  float64\n",
            " 10  Currency          46068 non-null  object \n",
            " 11  Size              46068 non-null  object \n",
            " 12  Minimum Android   46068 non-null  object \n",
            " 13  Developer Id      46068 non-null  object \n",
            " 14  Developer Email   46068 non-null  object \n",
            " 15  Released          46068 non-null  object \n",
            " 16  Last Updated      46068 non-null  object \n",
            " 17  Content Rating    46068 non-null  object \n",
            " 18  Ad Supported      46068 non-null  bool   \n",
            " 19  In App Purchases  46068 non-null  bool   \n",
            " 20  Editors Choice    46068 non-null  bool   \n",
            "dtypes: bool(4), float64(4), int64(1), object(12)\n",
            "memory usage: 6.5+ MB\n"
          ],
          "name": "stdout"
        }
      ]
    },
    {
      "cell_type": "markdown",
      "metadata": {
        "id": "NGxzzoZEbQWW"
      },
      "source": [
        "There are a small amount of applications that have pricing. \r\n",
        "\r\n",
        "Now we can look at the stats for the ratings since it is our primary focus of this analysis."
      ]
    },
    {
      "cell_type": "code",
      "metadata": {
        "colab": {
          "base_uri": "https://localhost:8080/"
        },
        "id": "h0Vl1Im1UN0A",
        "outputId": "52525a88-f9df-40ad-c9f3-dd43cb5d3862"
      },
      "source": [
        "# Stats for the ratings for apps that are free\r\n",
        "F['Rating'].describe()"
      ],
      "execution_count": null,
      "outputs": [
        {
          "output_type": "execute_result",
          "data": {
            "text/plain": [
              "count    1.062234e+06\n",
              "mean     2.505969e+00\n",
              "std      2.049358e+00\n",
              "min      0.000000e+00\n",
              "25%      0.000000e+00\n",
              "50%      3.600000e+00\n",
              "75%      4.300000e+00\n",
              "max      5.000000e+00\n",
              "Name: Rating, dtype: float64"
            ]
          },
          "metadata": {
            "tags": []
          },
          "execution_count": 14
        }
      ]
    },
    {
      "cell_type": "markdown",
      "metadata": {
        "id": "yGTVk4yxmeV_"
      },
      "source": [
        "Although, there is a majority of apps that are free, these apps produce an avg. rating of 2.5 out of 5. "
      ]
    },
    {
      "cell_type": "code",
      "metadata": {
        "colab": {
          "base_uri": "https://localhost:8080/"
        },
        "id": "cWVhdFixSZZu",
        "outputId": "8c8216ef-8d0d-4cbb-f285-a4ad6e2aec21"
      },
      "source": [
        "# stats for the ratings for apps that are not free\r\n",
        "NF['Rating'].describe()"
      ],
      "execution_count": null,
      "outputs": [
        {
          "output_type": "execute_result",
          "data": {
            "text/plain": [
              "count    46068.000000\n",
              "mean         2.143262\n",
              "std          2.128622\n",
              "min          0.000000\n",
              "25%          0.000000\n",
              "50%          2.600000\n",
              "75%          4.300000\n",
              "max          5.000000\n",
              "Name: Rating, dtype: float64"
            ]
          },
          "metadata": {
            "tags": []
          },
          "execution_count": 15
        }
      ]
    },
    {
      "cell_type": "markdown",
      "metadata": {
        "id": "s1NIN2nOrlXz"
      },
      "source": [
        "Here, small amount of apps that have a price and the avg. rating is 2.14 so its lower than the apps that were free. \r\n",
        "\r\n",
        "Once we look at the stats, we can run a t-test for our two independent samples. The t-test can help us determine if we can reject or fail to reject our hypothesis "
      ]
    },
    {
      "cell_type": "code",
      "metadata": {
        "colab": {
          "base_uri": "https://localhost:8080/"
        },
        "id": "NdXSCd9OUYdF",
        "outputId": "c441b63d-8185-43f6-aa63-d8bcf064136d"
      },
      "source": [
        "# Ratings is our dependent variable while our independent variables are apps that are Free labeled F and apps that are not free labeled NF\r\n",
        "stats.ttest_ind(F['Rating'], NF['Rating'])"
      ],
      "execution_count": null,
      "outputs": [
        {
          "output_type": "execute_result",
          "data": {
            "text/plain": [
              "Ttest_indResult(statistic=37.128585633970616, pvalue=1.4921294321482818e-301)"
            ]
          },
          "metadata": {
            "tags": []
          },
          "execution_count": 16
        }
      ]
    },
    {
      "cell_type": "markdown",
      "metadata": {
        "id": "qhI2WeMvLMSE"
      },
      "source": [
        "It seems that our p-value is very small than our alpha therefore we can reject the null hypothesis therefore accepting our alternative. The alternative states that there is significant difference with the app ratings based on two different price ranges.\r\n",
        "\r\n"
      ]
    },
    {
      "cell_type": "markdown",
      "metadata": {
        "id": "NH2uqbnBXXB2"
      },
      "source": [
        "We also need calculations for the two samples in order to visually understand when create a graph. We need:\r\n",
        "\r\n",
        "* Mean   \r\n",
        "* Variance\r\n",
        "* Observations [the sample size]\r\n",
        "* Standard Error\r\n",
        "* Confidence Inteval [Upper and Lower]\r\n"
      ]
    },
    {
      "cell_type": "code",
      "metadata": {
        "colab": {
          "base_uri": "https://localhost:8080/"
        },
        "id": "30mQPJoCXWWn",
        "outputId": "6e35a3ea-548e-44ca-f43e-3762bd215bdd"
      },
      "source": [
        "# Calculations for F['Rating']\r\n",
        "M1 = F['Rating'].mean()\r\n",
        "V1 = F['Rating'].var()\r\n",
        "O1 = F['Rating'].count()\r\n",
        "Se1 = math.sqrt((V1)/(O1)) # Formula is the sqrt of the variance (V1) divided by the observation size (O1)\r\n",
        "print(\"The mean for F['Rating'] is {}\".format(M1))\r\n",
        "print(\"The variance for F['Rating'] is {}\".format(V1))\r\n",
        "print(\"The observations for F['Rating'] is {}\".format(O1))\r\n",
        "print(\"The Standard error for F['Rating'] is {}\".format(Se1))"
      ],
      "execution_count": null,
      "outputs": [
        {
          "output_type": "stream",
          "text": [
            "The mean for F['Rating'] is 2.505969306197579\n",
            "The variance for F['Rating'] is 4.199870113099153\n",
            "The observations for F['Rating'] is 1062234\n",
            "The Standard error for F['Rating'] is 0.0019884186625637977\n"
          ],
          "name": "stdout"
        }
      ]
    },
    {
      "cell_type": "code",
      "metadata": {
        "colab": {
          "base_uri": "https://localhost:8080/"
        },
        "id": "UXXv2Kg5g_Dg",
        "outputId": "c7dd2d58-15ec-4b7f-a4dd-dd307c9337ec"
      },
      "source": [
        "# Calculations for NF['Rating']\r\n",
        "M2 = NF['Rating'].mean()\r\n",
        "V2 = NF['Rating'].var()\r\n",
        "O2 = NF[\"Rating\"].count()\r\n",
        "Se2 = math.sqrt((V2)/(O2))\r\n",
        "print(\"The mean for NF['Rating'] is {}\".format(M2))\r\n",
        "print(\"The variance for NF['Rating'] is {}\".format(V2))\r\n",
        "print(\"The observations for NF['Rating'] is {}\".format(O2))\r\n",
        "print(\"The Standard error for NF['Rating'] is {}\".format(Se2))"
      ],
      "execution_count": null,
      "outputs": [
        {
          "output_type": "stream",
          "text": [
            "The mean for NF['Rating'] is 2.1432621342363385\n",
            "The variance for NF['Rating'] is 4.531032161126899\n",
            "The observations for NF['Rating'] is 46068\n",
            "The Standard error for NF['Rating'] is 0.00991742428038587\n"
          ],
          "name": "stdout"
        }
      ]
    },
    {
      "cell_type": "markdown",
      "metadata": {
        "id": "7O6sE-y3pYed"
      },
      "source": [
        "Now in order to get our Confidence Intervals (lower and upper) we need a few calulations: \r\n",
        "\r\n",
        "*   Mean difference between our two samples \r\n",
        "*   Standard error of difference\r\n",
        "*   Margin of error\r\n",
        "\r\n",
        "Use a definiton function called ```get_95_ci()``` to have all the calculations under one roof. "
      ]
    },
    {
      "cell_type": "code",
      "metadata": {
        "id": "uqytCMPkpXzQ",
        "colab": {
          "base_uri": "https://localhost:8080/",
          "height": 35
        },
        "outputId": "311a7022-acfa-4d48-88ec-8d51e5c4e021"
      },
      "source": [
        "def get_95_ci(array_1, array_2): \r\n",
        "    sample_1_n = array_1.shape[0]  # Represents our two samples\r\n",
        "    sample_2_n = array_2.shape[0]\r\n",
        "    sample_1_mean = array_1.mean()\r\n",
        "    sample_2_mean = array_2.mean() # Represents our means for the two samples\r\n",
        "    sample_1_var = array_1.var()\r\n",
        "    sample_2_var = array_2.var()   # Variance for our two samples\r\n",
        "    mean_difference = sample_1_mean - sample_2_mean  # Difference b/w our means\r\n",
        "    std_err_difference = math.sqrt((sample_1_var/sample_1_n)+(sample_2_var/sample_2_n)) # Standrd error difference b/w our two samples\r\n",
        "    margin_of_error = 1.96 * std_err_difference # 1.96 represents are 95% C.I. (two-tailed) for the t-test formula\r\n",
        "    ci_lower = mean_difference - margin_of_error\r\n",
        "    ci_upper = mean_difference + margin_of_error\r\n",
        "    return(\"The difference in means at the 95% confidence interval (two-tail) is between \"+str(ci_lower)+\" and \"+str(ci_upper)+\".\")\r\n",
        "\r\n",
        "get_95_ci(F['Rating'], NF['Rating'])"
      ],
      "execution_count": null,
      "outputs": [
        {
          "output_type": "execute_result",
          "data": {
            "application/vnd.google.colaboratory.intrinsic+json": {
              "type": "string"
            },
            "text/plain": [
              "'The difference in means at the 95% confidence interval (two-tail) is between 0.34288217034664503 and 0.38253217357583635.'"
            ]
          },
          "metadata": {
            "tags": []
          },
          "execution_count": 28
        }
      ]
    },
    {
      "cell_type": "markdown",
      "metadata": {
        "id": "qYFxlh9GT_s6"
      },
      "source": [
        "Now after all the calculations I can create a barplot using the seaborn library.\r\n",
        "\r\n",
        "We will compare the price column to the ratings column."
      ]
    },
    {
      "cell_type": "code",
      "metadata": {
        "id": "Jtn8KBCZ9Iox",
        "colab": {
          "base_uri": "https://localhost:8080/",
          "height": 519
        },
        "outputId": "e23d9510-6f4e-48b4-f35a-5f4fe5f7f129"
      },
      "source": [
        "plt.figure(figsize=(8,8)) # To make the graph a bit bigger.\r\n",
        "sns.barplot(x = \"Free\", y = \"Rating\" , data = clean_gps_df, ci = 95, capsize= .05) "
      ],
      "execution_count": null,
      "outputs": [
        {
          "output_type": "execute_result",
          "data": {
            "text/plain": [
              "<matplotlib.axes._subplots.AxesSubplot at 0x7fef3a330e10>"
            ]
          },
          "metadata": {
            "tags": []
          },
          "execution_count": 29
        },
        {
          "output_type": "display_data",
          "data": {
            "image/png": "[encoded data removed]",
            "text/plain": [
              "<Figure size 576x576 with 1 Axes>"
            ]
          },
          "metadata": {
            "tags": []
          }
        }
      ]
    },
    {
      "cell_type": "markdown",
      "metadata": {
        "id": "csvBcfgY-w6E"
      },
      "source": [
        "From the graph above: \r\n",
        "\r\n",
        "x = Apps that are Free  \r\n",
        "\r\n",
        "y = Rating of the apps\r\n",
        "\r\n",
        "True --> Free apps \r\n",
        "\r\n",
        "False --> Not Free apps\r\n",
        "\r\n",
        "In the graph, the free apps tend to have a higher rating compared to the ones that have a price. It makes sense because it is a free app so people will tend to give a higher rating but, its only a 2.5 rating so that indicates it is probably a decent app at best. \r\n",
        "\r\n",
        "The apps that have a price tend to have a lower rating. The reason that maybe is that people wasted their money for the apps that was not working correctly or just poorly developed. \r\n",
        "Also, in the graph we have the error bars to be small since our c.i. calculations were small as well."
      ]
    },
    {
      "cell_type": "markdown",
      "metadata": {
        "id": "DbnA2LQTFKau"
      },
      "source": [
        "# **Case 2: In App Purchases**\r\n",
        "\r\n",
        "We look at one case with the app ratings based on two different price ranges. Now, we can look at other insights for the app ratings.  \r\n",
        "\r\n",
        "Our next case would be does app ratings have an effect if there is in app purchases aka the Freemium Model?\r\n",
        "\r\n",
        "Hypothesis (same formula):\r\n",
        "\r\n",
        "### H_o = mu_1 - mu_2 = 0 \r\n",
        "\r\n",
        "### H_a = mu_1 - mu_2 != 0\r\n",
        "\r\n",
        "\r\n",
        "**Null hypothesis:** the app ratings has no significant difference based on in app purchases. \r\n",
        "\r\n",
        "**Alternative hypothesis:** the app ratings has significant difference based on in app purchases."
      ]
    },
    {
      "cell_type": "markdown",
      "metadata": {
        "id": "gQwWzEI3TC7W"
      },
      "source": [
        "First, create variable Free_Mod which will represent the values in the dataset that have in app purchases."
      ]
    },
    {
      "cell_type": "code",
      "metadata": {
        "colab": {
          "base_uri": "https://localhost:8080/"
        },
        "id": "EgRCh2FES9KN",
        "outputId": "675dc6a7-5afe-4615-cb10-4e9b9239ca85"
      },
      "source": [
        "Free_Mod = clean_gps_df.loc[(clean_gps_df[\"In App Purchases\"] == True).values]\r\n",
        "Free_Mod.info()"
      ],
      "execution_count": null,
      "outputs": [
        {
          "output_type": "stream",
          "text": [
            "<class 'pandas.core.frame.DataFrame'>\n",
            "Int64Index: 118581 entries, 1 to 1118129\n",
            "Data columns (total 21 columns):\n",
            " #   Column            Non-Null Count   Dtype  \n",
            "---  ------            --------------   -----  \n",
            " 0   App Name          118581 non-null  object \n",
            " 1   App Id            118581 non-null  object \n",
            " 2   Category          118581 non-null  object \n",
            " 3   Rating            118581 non-null  float64\n",
            " 4   Rating Count      118581 non-null  float64\n",
            " 5   Installs          118581 non-null  object \n",
            " 6   Minimum Installs  118581 non-null  float64\n",
            " 7   Maximum Installs  118581 non-null  int64  \n",
            " 8   Free              118581 non-null  bool   \n",
            " 9   Price             118581 non-null  float64\n",
            " 10  Currency          118581 non-null  object \n",
            " 11  Size              118581 non-null  object \n",
            " 12  Minimum Android   118581 non-null  object \n",
            " 13  Developer Id      118581 non-null  object \n",
            " 14  Developer Email   118581 non-null  object \n",
            " 15  Released          118581 non-null  object \n",
            " 16  Last Updated      118581 non-null  object \n",
            " 17  Content Rating    118581 non-null  object \n",
            " 18  Ad Supported      118581 non-null  bool   \n",
            " 19  In App Purchases  118581 non-null  bool   \n",
            " 20  Editors Choice    118581 non-null  bool   \n",
            "dtypes: bool(4), float64(4), int64(1), object(12)\n",
            "memory usage: 16.7+ MB\n"
          ],
          "name": "stdout"
        }
      ]
    },
    {
      "cell_type": "markdown",
      "metadata": {
        "id": "l8DYoQ0cXYZm"
      },
      "source": [
        "These are the results of the dataset where there are in app purchases.\r\n",
        "\r\n",
        "Next, Not_Free_Mod is the variable where we will find the values that have no in app purchases."
      ]
    },
    {
      "cell_type": "code",
      "metadata": {
        "colab": {
          "base_uri": "https://localhost:8080/"
        },
        "id": "BQwhrsU3X0mE",
        "outputId": "b9afa063-a590-406e-c5ad-3e387d7fc605"
      },
      "source": [
        "Not_Free_Mod = clean_gps_df.loc[(clean_gps_df['In App Purchases'] == False).values]\r\n",
        "Not_Free_Mod.info()"
      ],
      "execution_count": null,
      "outputs": [
        {
          "output_type": "stream",
          "text": [
            "<class 'pandas.core.frame.DataFrame'>\n",
            "Int64Index: 989721 entries, 0 to 1118135\n",
            "Data columns (total 21 columns):\n",
            " #   Column            Non-Null Count   Dtype  \n",
            "---  ------            --------------   -----  \n",
            " 0   App Name          989721 non-null  object \n",
            " 1   App Id            989721 non-null  object \n",
            " 2   Category          989721 non-null  object \n",
            " 3   Rating            989721 non-null  float64\n",
            " 4   Rating Count      989721 non-null  float64\n",
            " 5   Installs          989721 non-null  object \n",
            " 6   Minimum Installs  989721 non-null  float64\n",
            " 7   Maximum Installs  989721 non-null  int64  \n",
            " 8   Free              989721 non-null  bool   \n",
            " 9   Price             989721 non-null  float64\n",
            " 10  Currency          989721 non-null  object \n",
            " 11  Size              989721 non-null  object \n",
            " 12  Minimum Android   989721 non-null  object \n",
            " 13  Developer Id      989721 non-null  object \n",
            " 14  Developer Email   989721 non-null  object \n",
            " 15  Released          989721 non-null  object \n",
            " 16  Last Updated      989721 non-null  object \n",
            " 17  Content Rating    989721 non-null  object \n",
            " 18  Ad Supported      989721 non-null  bool   \n",
            " 19  In App Purchases  989721 non-null  bool   \n",
            " 20  Editors Choice    989721 non-null  bool   \n",
            "dtypes: bool(4), float64(4), int64(1), object(12)\n",
            "memory usage: 139.7+ MB\n"
          ],
          "name": "stdout"
        }
      ]
    },
    {
      "cell_type": "markdown",
      "metadata": {
        "id": "2_j7r3peaCJL"
      },
      "source": [
        "This is a much bigger dataset of the apps that do not have in app purchases compare to the ones that do have in app purchases.\r\n",
        "\r\n",
        "Now, let's look at the statistics of the ratings."
      ]
    },
    {
      "cell_type": "code",
      "metadata": {
        "colab": {
          "base_uri": "https://localhost:8080/"
        },
        "id": "BDmc01hDaBaT",
        "outputId": "e17e0b58-84a1-410e-b239-83bd0e8d93c8"
      },
      "source": [
        "# Rating Stats for the in app purchases (Free_Mod)\r\n",
        "Free_Mod['Rating'].describe()"
      ],
      "execution_count": null,
      "outputs": [
        {
          "output_type": "execute_result",
          "data": {
            "text/plain": [
              "count    118581.000000\n",
              "mean          3.594815\n",
              "std           1.413069\n",
              "min           0.000000\n",
              "25%           3.600000\n",
              "50%           4.100000\n",
              "75%           4.400000\n",
              "max           5.000000\n",
              "Name: Rating, dtype: float64"
            ]
          },
          "metadata": {
            "tags": []
          },
          "execution_count": 31
        }
      ]
    },
    {
      "cell_type": "markdown",
      "metadata": {
        "id": "rplKE64Uxr3w"
      },
      "source": [
        "Avg. rating for the app is 3.59 so it is a pretty high rating for apps that have in app purchases."
      ]
    },
    {
      "cell_type": "code",
      "metadata": {
        "colab": {
          "base_uri": "https://localhost:8080/"
        },
        "id": "rENGIkOUei9I",
        "outputId": "f6d5245a-e5e6-4f3d-ce59-3a7b6ff56936"
      },
      "source": [
        "# Rating Stats for the not in app purchases (Not_Free_Mod)\r\n",
        "Not_Free_Mod['Rating'].describe()"
      ],
      "execution_count": null,
      "outputs": [
        {
          "output_type": "execute_result",
          "data": {
            "text/plain": [
              "count    989721.000000\n",
              "mean          2.358629\n",
              "std           2.078848\n",
              "min           0.000000\n",
              "25%           0.000000\n",
              "50%           3.400000\n",
              "75%           4.300000\n",
              "max           5.000000\n",
              "Name: Rating, dtype: float64"
            ]
          },
          "metadata": {
            "tags": []
          },
          "execution_count": 32
        }
      ]
    },
    {
      "cell_type": "markdown",
      "metadata": {
        "id": "dz_mrPh8zcp1"
      },
      "source": [
        "A 2.36 avg rating is low for in app purchases."
      ]
    },
    {
      "cell_type": "markdown",
      "metadata": {
        "id": "ZeJBzQv3hu6a"
      },
      "source": [
        "Now, calculate the independent t-test for the two samples."
      ]
    },
    {
      "cell_type": "code",
      "metadata": {
        "colab": {
          "base_uri": "https://localhost:8080/"
        },
        "id": "s2M4lfPghtm8",
        "outputId": "17571133-aad2-44ed-a1b3-361bd26e4581"
      },
      "source": [
        "# samples: Free_Mod and Not_Free_Mod\r\n",
        "stats.ttest_ind(Free_Mod['Rating'], Not_Free_Mod['Rating'])"
      ],
      "execution_count": null,
      "outputs": [
        {
          "output_type": "execute_result",
          "data": {
            "text/plain": [
              "Ttest_indResult(statistic=199.32801113087348, pvalue=0.0)"
            ]
          },
          "metadata": {
            "tags": []
          },
          "execution_count": 33
        }
      ]
    },
    {
      "cell_type": "markdown",
      "metadata": {
        "id": "J2VKJPqglABp"
      },
      "source": [
        "Well, it turns out the p-value is extremely small therefore it shows the value to zero. To conclude, we can reject the null hypothesis and accepting the alternative which is that there is a significant change with the app ratings based on in app purchases. "
      ]
    },
    {
      "cell_type": "markdown",
      "metadata": {
        "id": "X-xHa89lGG6v"
      },
      "source": [
        "Now we can calculate the mean, variance, standard error, and confidence intervals for these two samples."
      ]
    },
    {
      "cell_type": "code",
      "metadata": {
        "colab": {
          "base_uri": "https://localhost:8080/"
        },
        "id": "5PLGOhEsGGaR",
        "outputId": "63096efe-e89c-4028-82d1-7635849205c5"
      },
      "source": [
        "# Free_Mod calculations:\r\n",
        "M1B = Free_Mod['Rating'].mean() # B represents the second case of this analysis.\r\n",
        "V1B = Free_Mod['Rating'].var()\r\n",
        "O1B = Free_Mod['Rating'].count()\r\n",
        "Se1B = math.sqrt(V1B/O1B)\r\n",
        "print(\"The mean for Free_Mod['Rating'] is {}\".format(M1B))\r\n",
        "print(\"The variance for Free_Mod['Rating'] is {}\".format(V1B))\r\n",
        "print(\"The observations for Free_Mod['Rating'] is {}\".format(O1B))\r\n",
        "print(\"The standard error for Free_Mod['Rating'] is {}\".format(Se1B))"
      ],
      "execution_count": null,
      "outputs": [
        {
          "output_type": "stream",
          "text": [
            "The mean for Free_Mod['Rating'] is 3.5948145149729287\n",
            "The variance for Free_Mod['Rating'] is 1.9967632100287431\n",
            "The observations for Free_Mod['Rating'] is 118581\n",
            "The standard error for Free_Mod['Rating'] is 0.004103512199716179\n"
          ],
          "name": "stdout"
        }
      ]
    },
    {
      "cell_type": "code",
      "metadata": {
        "colab": {
          "base_uri": "https://localhost:8080/"
        },
        "id": "gkf5j3BzQHfQ",
        "outputId": "b9ac53d5-ac13-4549-8608-f581a73319f8"
      },
      "source": [
        "# Not_Free_Mod calculations:\r\n",
        "M2B = Not_Free_Mod['Rating'].mean()\r\n",
        "V2B = Not_Free_Mod['Rating'].var()\r\n",
        "O2B = Not_Free_Mod['Rating'].count()\r\n",
        "Se2B = math.sqrt(V2B/O2B)\r\n",
        "print(\"The mean for Not_Free_Mod['Rating'] is {}\".format(M2B))\r\n",
        "print(\"The variance for Not_Free_Mod['Rating'] is {}\".format(V2B))\r\n",
        "print(\"The observations for Not_Free_Mod['Rating'] is {}\".format(O2B))\r\n",
        "print(\"The standard error for Not_Free_Mod['Rating'] is {}\".format(Se2B))"
      ],
      "execution_count": null,
      "outputs": [
        {
          "output_type": "stream",
          "text": [
            "The mean for Not_Free_Mod['Rating'] is 2.358629250061007\n",
            "The variance for Not_Free_Mod['Rating'] is 4.321608519515976\n",
            "The observations for Not_Free_Mod['Rating'] is 989721\n",
            "The standard error for Not_Free_Mod['Rating'] is 0.0020896152008378324\n"
          ],
          "name": "stdout"
        }
      ]
    },
    {
      "cell_type": "markdown",
      "metadata": {
        "id": "Z21B-o9FTB9j"
      },
      "source": [
        "For the Confidence Interval we have the definition function ```get_95_ci()``` so we do need to repeat those calculations.\r\n",
        "\r\n"
      ]
    },
    {
      "cell_type": "code",
      "metadata": {
        "colab": {
          "base_uri": "https://localhost:8080/",
          "height": 35
        },
        "id": "wLjRNxaGSYbS",
        "outputId": "e040598c-1463-421c-d4da-f0c1ef42d6b8"
      },
      "source": [
        "get_95_ci(Free_Mod['Rating'], Not_Free_Mod['Rating'])"
      ],
      "execution_count": null,
      "outputs": [
        {
          "output_type": "execute_result",
          "data": {
            "application/vnd.google.colaboratory.intrinsic+json": {
              "type": "string"
            },
            "text/plain": [
              "'The difference in means at the 95% confidence interval (two-tail) is between 1.2271596183378561 and 1.245210911485987.'"
            ]
          },
          "metadata": {
            "tags": []
          },
          "execution_count": 36
        }
      ]
    },
    {
      "cell_type": "markdown",
      "metadata": {
        "id": "2D1cGXmnz6pv"
      },
      "source": [
        "After the calcuations were found, let's make a plot to explain the dynamics for these two independent samples."
      ]
    },
    {
      "cell_type": "code",
      "metadata": {
        "colab": {
          "base_uri": "https://localhost:8080/",
          "height": 519
        },
        "id": "L1OvyOhlo7Xw",
        "outputId": "17a1ac6c-ed63-4bf9-c2ca-46544c79058c"
      },
      "source": [
        "plt.figure(figsize=(8,8))\r\n",
        "sns.barplot(x= \"In App Purchases\", y = \"Rating\", data = clean_gps_df, ci = 95, capsize = .05)"
      ],
      "execution_count": null,
      "outputs": [
        {
          "output_type": "execute_result",
          "data": {
            "text/plain": [
              "<matplotlib.axes._subplots.AxesSubplot at 0x7fef2659df60>"
            ]
          },
          "metadata": {
            "tags": []
          },
          "execution_count": 37
        },
        {
          "output_type": "display_data",
          "data": {
            "image/png": "[encoded data removed]",
            "text/plain": [
              "<Figure size 576x576 with 1 Axes>"
            ]
          },
          "metadata": {
            "tags": []
          }
        }
      ]
    },
    {
      "cell_type": "markdown",
      "metadata": {
        "id": "RFZYxwMb0G8h"
      },
      "source": [
        "In the graph above:\r\n",
        "\r\n",
        "x = In App Purchases\r\n",
        "\r\n",
        "y = Rating\r\n",
        "\r\n",
        "True --> In app purchases (Freemium model)\r\n",
        "\r\n",
        "False --> Not in app purchases (Not Freemium model)\r\n",
        "\r\n",
        "Our error bars are small since our c.i. calculations are \r\n",
        "\r\n",
        "The true graph has a much higher rating because people are addictied to buy things in a free app that can help them in the long run. For example, game apps have a freemium model where you pay to get extra coins in order to use them for the game objective. \r\n",
        "\r\n",
        "The false graph has a much lower rating and the reason is that people may tend to want to buy things in an app but there is no in app purchases therefore people may give not a good review of the app. Also, people may not just care about in app purchase at all and still give a bad review anyway.   "
      ]
    },
    {
      "cell_type": "markdown",
      "metadata": {
        "id": "fgpRfk6mX5Od"
      },
      "source": [
        "# **Case 3: People's Reviews**\r\n",
        "\r\n",
        "Does the app ratings have any significant difference with the amount of people's reviews?\r\n",
        "\r\n",
        "Hypothesis:\r\n",
        "\r\n",
        "### H_o = mu_1 - mu_2 = 0 \r\n",
        "\r\n",
        "### H_a = mu_1 - mu_2 != 0\r\n",
        "\r\n",
        "\r\n",
        "**Null hypothesis:** the app ratings has no significant difference based on people's reviews \r\n",
        "\r\n",
        "**Alternative hypothesis:** the app ratings has significant difference based on people's reviews\r\n",
        "\r\n"
      ]
    },
    {
      "cell_type": "markdown",
      "metadata": {
        "id": "bCjpCnCDsW_-"
      },
      "source": [
        "People Reviews would be the Rating Count column in our clean_gps_df. In here, we can see that stats of this specific column."
      ]
    },
    {
      "cell_type": "code",
      "metadata": {
        "colab": {
          "base_uri": "https://localhost:8080/"
        },
        "id": "CSnQUHwttWsk",
        "outputId": "3394b709-9257-48f3-8ad3-d037c6d48763"
      },
      "source": [
        "clean_gps_df['Rating Count'].describe()"
      ],
      "execution_count": null,
      "outputs": [
        {
          "output_type": "execute_result",
          "data": {
            "text/plain": [
              "count    1.108302e+06\n",
              "mean     4.970444e+03\n",
              "std      2.528717e+05\n",
              "min      0.000000e+00\n",
              "25%      0.000000e+00\n",
              "50%      1.100000e+01\n",
              "75%      1.000000e+02\n",
              "max      1.253808e+08\n",
              "Name: Rating Count, dtype: float64"
            ]
          },
          "metadata": {
            "tags": []
          },
          "execution_count": 38
        }
      ]
    },
    {
      "cell_type": "markdown",
      "metadata": {
        "id": "o-SgQSyhtt7Y"
      },
      "source": [
        "We can see that the avg Rating's Count about 4970.44 per app.\r\n",
        "\r\n",
        "Round this up to 5000 so we can analyze the apps that have underperformed or exceeded based upon this rounded average."
      ]
    },
    {
      "cell_type": "code",
      "metadata": {
        "colab": {
          "base_uri": "https://localhost:8080/"
        },
        "id": "3CfUo45kttgm",
        "outputId": "54b6691a-892a-4bfa-9d53-06cc6462a009"
      },
      "source": [
        "# Above_5000 is the amount of reviews of the app that is exceeded.\r\n",
        "Above_5000 = clean_gps_df.iloc[(clean_gps_df['Rating Count'] >= 5000).values]\r\n",
        "Above_5000.info()"
      ],
      "execution_count": null,
      "outputs": [
        {
          "output_type": "stream",
          "text": [
            "<class 'pandas.core.frame.DataFrame'>\n",
            "Int64Index: 46861 entries, 1 to 1118103\n",
            "Data columns (total 21 columns):\n",
            " #   Column            Non-Null Count  Dtype  \n",
            "---  ------            --------------  -----  \n",
            " 0   App Name          46861 non-null  object \n",
            " 1   App Id            46861 non-null  object \n",
            " 2   Category          46861 non-null  object \n",
            " 3   Rating            46861 non-null  float64\n",
            " 4   Rating Count      46861 non-null  float64\n",
            " 5   Installs          46861 non-null  object \n",
            " 6   Minimum Installs  46861 non-null  float64\n",
            " 7   Maximum Installs  46861 non-null  int64  \n",
            " 8   Free              46861 non-null  bool   \n",
            " 9   Price             46861 non-null  float64\n",
            " 10  Currency          46861 non-null  object \n",
            " 11  Size              46861 non-null  object \n",
            " 12  Minimum Android   46861 non-null  object \n",
            " 13  Developer Id      46861 non-null  object \n",
            " 14  Developer Email   46861 non-null  object \n",
            " 15  Released          46861 non-null  object \n",
            " 16  Last Updated      46861 non-null  object \n",
            " 17  Content Rating    46861 non-null  object \n",
            " 18  Ad Supported      46861 non-null  bool   \n",
            " 19  In App Purchases  46861 non-null  bool   \n",
            " 20  Editors Choice    46861 non-null  bool   \n",
            "dtypes: bool(4), float64(4), int64(1), object(12)\n",
            "memory usage: 6.6+ MB\n"
          ],
          "name": "stdout"
        }
      ]
    },
    {
      "cell_type": "markdown",
      "metadata": {
        "id": "gRiGnGnma4h2"
      },
      "source": [
        "Looks like a small dataset that were above 5000 reviews per app.\r\n",
        "\r\n"
      ]
    },
    {
      "cell_type": "code",
      "metadata": {
        "colab": {
          "base_uri": "https://localhost:8080/"
        },
        "id": "-VVSMjOJT4cU",
        "outputId": "782fb953-36cc-4091-c8db-36823e2aa91e"
      },
      "source": [
        "# Below_5000 is the amount of reviews of the app that underperformed.\r\n",
        "Below_5000 = clean_gps_df.iloc[(clean_gps_df['Rating Count'] < 5000).values]\r\n",
        "Below_5000.info()"
      ],
      "execution_count": null,
      "outputs": [
        {
          "output_type": "stream",
          "text": [
            "<class 'pandas.core.frame.DataFrame'>\n",
            "Int64Index: 1061441 entries, 0 to 1118135\n",
            "Data columns (total 21 columns):\n",
            " #   Column            Non-Null Count    Dtype  \n",
            "---  ------            --------------    -----  \n",
            " 0   App Name          1061441 non-null  object \n",
            " 1   App Id            1061441 non-null  object \n",
            " 2   Category          1061441 non-null  object \n",
            " 3   Rating            1061441 non-null  float64\n",
            " 4   Rating Count      1061441 non-null  float64\n",
            " 5   Installs          1061441 non-null  object \n",
            " 6   Minimum Installs  1061441 non-null  float64\n",
            " 7   Maximum Installs  1061441 non-null  int64  \n",
            " 8   Free              1061441 non-null  bool   \n",
            " 9   Price             1061441 non-null  float64\n",
            " 10  Currency          1061441 non-null  object \n",
            " 11  Size              1061441 non-null  object \n",
            " 12  Minimum Android   1061441 non-null  object \n",
            " 13  Developer Id      1061441 non-null  object \n",
            " 14  Developer Email   1061441 non-null  object \n",
            " 15  Released          1061441 non-null  object \n",
            " 16  Last Updated      1061441 non-null  object \n",
            " 17  Content Rating    1061441 non-null  object \n",
            " 18  Ad Supported      1061441 non-null  bool   \n",
            " 19  In App Purchases  1061441 non-null  bool   \n",
            " 20  Editors Choice    1061441 non-null  bool   \n",
            "dtypes: bool(4), float64(4), int64(1), object(12)\n",
            "memory usage: 149.8+ MB\n"
          ],
          "name": "stdout"
        }
      ]
    },
    {
      "cell_type": "markdown",
      "metadata": {
        "id": "ei3vVtxcj2Hz"
      },
      "source": [
        "Looks like there is an overwhelming majority of apps that people did not review enough of and it's under the 5000 review avg.\r\n",
        "\r\n",
        "\r\n",
        "Let's look at the stats for our two samples."
      ]
    },
    {
      "cell_type": "code",
      "metadata": {
        "colab": {
          "base_uri": "https://localhost:8080/"
        },
        "id": "oGZ_EoWdlIof",
        "outputId": "c732c131-8dd7-4e34-a9a3-1fd83375b67c"
      },
      "source": [
        "Above_5000['Rating'].describe()"
      ],
      "execution_count": null,
      "outputs": [
        {
          "output_type": "execute_result",
          "data": {
            "text/plain": [
              "count    46861.000000\n",
              "mean         4.177250\n",
              "std          0.431387\n",
              "min          1.100000\n",
              "25%          4.000000\n",
              "50%          4.200000\n",
              "75%          4.500000\n",
              "max          5.000000\n",
              "Name: Rating, dtype: float64"
            ]
          },
          "metadata": {
            "tags": []
          },
          "execution_count": 41
        }
      ]
    },
    {
      "cell_type": "markdown",
      "metadata": {
        "id": "hfViSlm_4L-z"
      },
      "source": [
        "Small dataset but, it has higher ratings for the apps."
      ]
    },
    {
      "cell_type": "code",
      "metadata": {
        "colab": {
          "base_uri": "https://localhost:8080/"
        },
        "id": "zMPKCULZ4E5t",
        "outputId": "c19e9658-b3cc-4703-e03d-bcca56e01b23"
      },
      "source": [
        "Below_5000['Rating'].describe()"
      ],
      "execution_count": null,
      "outputs": [
        {
          "output_type": "execute_result",
          "data": {
            "text/plain": [
              "count    1.061441e+06\n",
              "mean     2.416443e+00\n",
              "std      2.065386e+00\n",
              "min      0.000000e+00\n",
              "25%      0.000000e+00\n",
              "50%      3.500000e+00\n",
              "75%      4.300000e+00\n",
              "max      5.000000e+00\n",
              "Name: Rating, dtype: float64"
            ]
          },
          "metadata": {
            "tags": []
          },
          "execution_count": 42
        }
      ]
    },
    {
      "cell_type": "markdown",
      "metadata": {
        "id": "9JMeOHbT6pyD"
      },
      "source": [
        "Large dataset but, poor ratings for the apps.\r\n",
        "\r\n",
        "Now calculate the t-test for the two independent samples."
      ]
    },
    {
      "cell_type": "code",
      "metadata": {
        "colab": {
          "base_uri": "https://localhost:8080/"
        },
        "id": "eQAUqWLMjhko",
        "outputId": "0d2d4658-2b37-4039-872c-2f1fd88438de"
      },
      "source": [
        "stats.ttest_ind(Above_5000['Rating'], Below_5000['Rating'])"
      ],
      "execution_count": null,
      "outputs": [
        {
          "output_type": "execute_result",
          "data": {
            "text/plain": [
              "Ttest_indResult(statistic=184.3733683887774, pvalue=0.0)"
            ]
          },
          "metadata": {
            "tags": []
          },
          "execution_count": 43
        }
      ]
    },
    {
      "cell_type": "markdown",
      "metadata": {
        "id": "wHDoYrus7uup"
      },
      "source": [
        "The p-value in this case is extremely small therefore we can reject the null hypothesis and accepting our alternative. The alternative is that there is a significant difference with the ratings based on people's review of the apps.\r\n",
        "\r\n",
        "Let us get the mean, variance, standard error, and confidence intervals for these two samples. "
      ]
    },
    {
      "cell_type": "code",
      "metadata": {
        "colab": {
          "base_uri": "https://localhost:8080/"
        },
        "id": "bFv00p4K9KLL",
        "outputId": "e3cfcaa6-adb9-4ea2-fe7e-9e94f8fe4b7f"
      },
      "source": [
        "# Above_5000 calculations:\r\n",
        "M1C = Above_5000['Rating'].mean() # C is the third case of this analysis.\r\n",
        "V1C = Above_5000['Rating'].var()\r\n",
        "O1C = Above_5000['Rating'].count()\r\n",
        "Se1C = math.sqrt(V1C/O1C)\r\n",
        "print(\"The mean for Above_5000['Rating'] is {}\".format(M1C))\r\n",
        "print(\"The variance for Above_5000['Rating'] is {}\".format(V1C))\r\n",
        "print(\"The observations for Above_5000['Rating'] is {}\".format(O1C))\r\n",
        "print(\"The standard error for Above_5000['Rating'] is {}\".format(Se1C))"
      ],
      "execution_count": null,
      "outputs": [
        {
          "output_type": "stream",
          "text": [
            "The mean for Above_5000['Rating'] is 4.177249738588655\n",
            "The variance for Above_5000['Rating'] is 0.186094663813696\n",
            "The observations for Above_5000['Rating'] is 46861\n",
            "The standard error for Above_5000['Rating'] is 0.00199278838851993\n"
          ],
          "name": "stdout"
        }
      ]
    },
    {
      "cell_type": "code",
      "metadata": {
        "colab": {
          "base_uri": "https://localhost:8080/"
        },
        "id": "YAcD88YK_VP0",
        "outputId": "dfd851d4-fc8a-4c71-e8fe-0646528c7abc"
      },
      "source": [
        "# Below_5000 calculations:\r\n",
        "M2C = Below_5000['Rating'].mean()\r\n",
        "V2C = Below_5000['Rating'].var()\r\n",
        "O2C = Below_5000['Rating'].count()\r\n",
        "Se2C = math.sqrt(V2C/O2C)\r\n",
        "print(\"The mean for Below_5000['Rating'] is {}\".format(M2C))\r\n",
        "print(\"The variance for Below_5000['Rating'] is {}\".format(V2C))\r\n",
        "print(\"The observations for Below_5000['Rating'] is {}\".format(O2C))\r\n",
        "print(\"The standard error for Below_5000['Rating'] is {}\".format(Se2C))\r\n"
      ],
      "execution_count": null,
      "outputs": [
        {
          "output_type": "stream",
          "text": [
            "The mean for Below_5000['Rating'] is 2.416442835729459\n",
            "The variance for Below_5000['Rating'] is 4.265821216012265\n",
            "The observations for Below_5000['Rating'] is 1061441\n",
            "The standard error for Below_5000['Rating'] is 0.0020047184874050624\n"
          ],
          "name": "stdout"
        }
      ]
    },
    {
      "cell_type": "markdown",
      "metadata": {
        "id": "EyJ9NAd7BDfw"
      },
      "source": [
        "Now the Confidence Interval using the ``` get_95_ci``` def function.\r\n",
        "\r\n"
      ]
    },
    {
      "cell_type": "code",
      "metadata": {
        "colab": {
          "base_uri": "https://localhost:8080/",
          "height": 35
        },
        "id": "uQjMmC-4AxPO",
        "outputId": "c1cb96c6-0348-4970-d59e-96f1a7805f46"
      },
      "source": [
        "get_95_ci(Above_5000['Rating'], Below_5000['Rating'])"
      ],
      "execution_count": null,
      "outputs": [
        {
          "output_type": "execute_result",
          "data": {
            "application/vnd.google.colaboratory.intrinsic+json": {
              "type": "string"
            },
            "text/plain": [
              "'The difference in means at the 95% confidence interval (two-tail) is between 1.7552666163161128 and 1.766347189402279.'"
            ]
          },
          "metadata": {
            "tags": []
          },
          "execution_count": 46
        }
      ]
    },
    {
      "cell_type": "markdown",
      "metadata": {
        "id": "CmVoHeW0cf0e"
      },
      "source": [
        "Now, in order to create a bar plot, I need to create a new column in the dataset to put all the values of the Rating Count that are above 5000. Made a new column in the clean_gps_df dataset called Above_5000 and that will be a condition statement of the Ratings Count column. \r\n",
        "\r\n",
        "It states the values in the Rating Count column that are over 5000.\r\n"
      ]
    },
    {
      "cell_type": "code",
      "metadata": {
        "colab": {
          "base_uri": "https://localhost:8080/",
          "height": 204
        },
        "id": "y5-YqPdK3Fra",
        "outputId": "3b6ba70d-282f-4610-f72f-2b3071f2e2a6"
      },
      "source": [
        "# New column with the condtion statement\r\n",
        "clean_gps_df['Above_5000'] = (clean_gps_df['Rating Count'] >= 5000)\r\n",
        "\r\n",
        "# Look at the first five values and comapre it to the Rating Count column\r\n",
        "clean_gps_df[['Above_5000', 'Rating Count']].head()"
      ],
      "execution_count": null,
      "outputs": [
        {
          "output_type": "execute_result",
          "data": {
            "text/html": [
              "<div>\n",
              "<style scoped>\n",
              "    .dataframe tbody tr th:only-of-type {\n",
              "        vertical-align: middle;\n",
              "    }\n",
              "\n",
              "    .dataframe tbody tr th {\n",
              "        vertical-align: top;\n",
              "    }\n",
              "\n",
              "    .dataframe thead th {\n",
              "        text-align: right;\n",
              "    }\n",
              "</style>\n",
              "<table border=\"1\" class=\"dataframe\">\n",
              "  <thead>\n",
              "    <tr style=\"text-align: right;\">\n",
              "      <th></th>\n",
              "      <th>Above_5000</th>\n",
              "      <th>Rating Count</th>\n",
              "    </tr>\n",
              "  </thead>\n",
              "  <tbody>\n",
              "    <tr>\n",
              "      <th>0</th>\n",
              "      <td>False</td>\n",
              "      <td>2848.0</td>\n",
              "    </tr>\n",
              "    <tr>\n",
              "      <th>1</th>\n",
              "      <td>True</td>\n",
              "      <td>17297.0</td>\n",
              "    </tr>\n",
              "    <tr>\n",
              "      <th>2</th>\n",
              "      <td>True</td>\n",
              "      <td>488639.0</td>\n",
              "    </tr>\n",
              "    <tr>\n",
              "      <th>3</th>\n",
              "      <td>True</td>\n",
              "      <td>1224420.0</td>\n",
              "    </tr>\n",
              "    <tr>\n",
              "      <th>4</th>\n",
              "      <td>False</td>\n",
              "      <td>665.0</td>\n",
              "    </tr>\n",
              "  </tbody>\n",
              "</table>\n",
              "</div>"
            ],
            "text/plain": [
              "   Above_5000  Rating Count\n",
              "0       False        2848.0\n",
              "1        True       17297.0\n",
              "2        True      488639.0\n",
              "3        True     1224420.0\n",
              "4       False         665.0"
            ]
          },
          "metadata": {
            "tags": []
          },
          "execution_count": 47
        }
      ]
    },
    {
      "cell_type": "markdown",
      "metadata": {
        "id": "2oHYK0-YiWgQ"
      },
      "source": [
        "After writing the condition statement, it outputs the true and false values to the correct values.\r\n",
        "\r\n",
        "Now create the barplot of this new column with our ratings."
      ]
    },
    {
      "cell_type": "code",
      "metadata": {
        "colab": {
          "base_uri": "https://localhost:8080/",
          "height": 519
        },
        "id": "QshaMYtTqyzr",
        "outputId": "9e78d40c-98be-4f73-b7d5-4df98a71c7d2"
      },
      "source": [
        "plt.figure(figsize=(8,8))\r\n",
        "sns.barplot(x = \"Above_5000\", y = \"Rating\", data = clean_gps_df, ci = 95, capsize=.05)"
      ],
      "execution_count": null,
      "outputs": [
        {
          "output_type": "execute_result",
          "data": {
            "text/plain": [
              "<matplotlib.axes._subplots.AxesSubplot at 0x7fef26520e80>"
            ]
          },
          "metadata": {
            "tags": []
          },
          "execution_count": 48
        },
        {
          "output_type": "display_data",
          "data": {
            "image/png": "[encoded data removed]",
            "text/plain": [
              "<Figure size 576x576 with 1 Axes>"
            ]
          },
          "metadata": {
            "tags": []
          }
        }
      ]
    },
    {
      "cell_type": "markdown",
      "metadata": {
        "id": "tktk9d6OlKBe"
      },
      "source": [
        "In the graph above: \r\n",
        "\r\n",
        "x = Above_5000\r\n",
        "\r\n",
        "y = Rating\r\n",
        "\r\n",
        "True --> App Reviews that are over 5000 \r\n",
        "\r\n",
        "False --> App Reviews that are under 5000\r\n",
        "\r\n",
        "**Note**: these are per individual apps. \r\n",
        "\r\n",
        "\r\n",
        "The true graph has a much smaller dataset but has the highest overall rating. This is probably because of the apps have overall a good quality will tend to have higher ratings even though the amount is much smaller. People tend to review good quality apps and it attracts more people to buy it. \r\n",
        "\r\n",
        "The false graph has a large dataset and lower overall rating. The reason may be is that people tend not to care about reviewing the apps because people did review them already. Also, in this case less reviewed apps tend to be ignored by the genereal audience because people may need more reviews on the app in order to convince them to actually downaload it.  "
      ]
    },
    {
      "cell_type": "markdown",
      "metadata": {
        "id": "ndFD3LPP3UyY"
      },
      "source": [
        "# **Overall Conclusion**\r\n",
        "\r\n"
      ]
    },
    {
      "cell_type": "markdown",
      "metadata": {
        "id": "KU9aQSeNqqvn"
      },
      "source": [
        "After looking at these three cases, I begin to understand that in the google play store, there are millions if not billions of applications that are downloaded. Once people can have the overall understanding of the apps that they have downloaded, then they will give their opinion of the app by rating them. People love to give their opinions, good or bad on the app that they are using. To reiterate, the objective of this analysis is to generate revenue for the applications in the play store and to maximize profit. With these three cases, the stakeholders can make more of a cohesive decision that can help not just the indiviual apps be successful but, the google play store overall the #1 place to get applications. More recognition of the play store not only will lead to more and more revenue it will generate trust in the audience of how efficient it is.\r\n",
        "\r\n",
        "If I were to give a recommendation, I would say that the apps that are highly rated and reviewed to give them more of a spotlight in the play store so people can see how the app is trending. You can make ads on those apps that are trending in the play store so it can get lots more traffic towards that app. As long as the ad best represents the app's features. After the stakeholders can make their decision based on the analysis,  they will discuss with the executives which will go down to the developers of the google play store to create ads that can create enough buzz for the apps. \r\n",
        "\r\n",
        "These cases that I analyzed does make me understand of what apps are tending and doing well in the play store. Also, it makes me realize of the apps that are poorly reviewed and being disregarded in the play store. In the end, app ratings can help me analyze how the process goes on the google play store and the apps that gains more popularity as time goes on. \r\n",
        " "
      ]
    }
  ]
}